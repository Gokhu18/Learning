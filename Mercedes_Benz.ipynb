{
  "nbformat": 4,
  "nbformat_minor": 0,
  "metadata": {
    "colab": {
      "name": "Mercedes-Benz.ipynb",
      "provenance": [],
      "collapsed_sections": [],
      "include_colab_link": true
    },
    "kernelspec": {
      "name": "python3",
      "display_name": "Python 3"
    }
  },
  "cells": [
    {
      "cell_type": "markdown",
      "metadata": {
        "id": "view-in-github",
        "colab_type": "text"
      },
      "source": [
        "<a href=\"https://colab.research.google.com/github/Gokhu18/Learning/blob/master/Mercedes_Benz.ipynb\" target=\"_parent\"><img src=\"https://colab.research.google.com/assets/colab-badge.svg\" alt=\"Open In Colab\"/></a>"
      ]
    },
    {
      "cell_type": "markdown",
      "metadata": {
        "id": "i5vwVEohw6mx",
        "colab_type": "text"
      },
      "source": [
        "## Mounting Google Drive"
      ]
    },
    {
      "cell_type": "markdown",
      "metadata": {
        "id": "C2Q8_AFPxENT",
        "colab_type": "text"
      },
      "source": [
        "### DESCRIPTION\n",
        "\n",
        "Reduce the time a Mercedes-Benz spends on the test bench.\n",
        "\n",
        "#### Problem Statement Scenario:\n",
        "Since the first automobile, the Benz Patent Motor Car in 1886, Mercedes-Benz has stood for important automotive innovations. These include the passenger safety cell with a crumple zone, the airbag, and intelligent assistance systems. Mercedes-Benz applies for nearly 2000 patents per year, making the brand the European leader among premium carmakers. Mercedes-Benz is the leader in the premium car industry. With a huge selection of features and options, customers can choose the customized Mercedes-Benz of their dreams.\n",
        "\n",
        "To ensure the safety and reliability of every unique car configuration before they hit the road, the company’s engineers have developed a robust testing system. As one of the world’s biggest manufacturers of premium cars, safety and efficiency are paramount on Mercedes-Benz’s production lines. However, optimizing the speed of their testing system for many possible feature combinations is complex and time-consuming without a powerful algorithmic approach.\n",
        "\n",
        "You are required to reduce the time that cars spend on the test bench. Others will work with a dataset representing different permutations of features in a Mercedes-Benz car to predict the time it takes to pass testing. Optimal algorithms will contribute to faster testing, resulting in lower carbon dioxide emissions without reducing Mercedes-Benz’s standards.\n",
        "\n",
        "#### Following actions should be performed:\n",
        "\n",
        "- If for any column(s), the variance is equal to zero, then you need to remove \n",
        "  those variable(s).\n",
        "- Check for null and unique values for test and train sets.\n",
        "- Apply label encoder.\n",
        "- Perform dimensionality reduction.\n",
        "- Predict your test_df values using XGBoost.\n",
        "- Find the datasets [here.](https://github.com/Simplilearn-Edu/Machine-Learning--Projects)"
      ]
    },
    {
      "cell_type": "code",
      "metadata": {
        "id": "XXS5KNl6xckk",
        "colab_type": "code",
        "colab": {}
      },
      "source": [
        ""
      ],
      "execution_count": 0,
      "outputs": []
    }
  ]
}